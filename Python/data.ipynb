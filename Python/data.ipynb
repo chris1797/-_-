{
 "cells": [
  {
   "cell_type": "code",
   "execution_count": 1,
   "id": "cabbe067",
   "metadata": {
    "scrolled": true
   },
   "outputs": [],
   "source": [
    "import cx_Oracle\n",
    "import matplotlib as mpl # 그래프 옵션\n",
    "import matplotlib.pyplot as plt # 그래프 출력\n",
    "import pandas as pd\n",
    "\n",
    "cx_Oracle.init_oracle_client(lib_dir=\"/Users/ijaehun/Downloads/instantclient_19_8\")\n",
    "connection = cx_Oracle.connect(user=\"admin\", password=\"Chldudcjf12!\", dsn=\"db20220709105045_low\")\n",
    "cursor = connection.cursor()"
   ]
  },
  {
   "cell_type": "code",
   "execution_count": 21,
   "id": "bfff5eb4",
   "metadata": {},
   "outputs": [],
   "source": [
    "def salesByWeek(year, svc_nm, cd_nm):\n",
    "    cursor.execute(\"SELECT SUM(MON_SELNG_AMT), \" +\n",
    "                   \"SUM(TUES_SELNG_AMT), \" +\n",
    "                   \"SUM(WED_SELNG_AMT), \" +\n",
    "                   \"SUM(THUR_SELNG_AMT), \" +\n",
    "                   \"SUM(FRI_SELNG_AMT), \" +\n",
    "                   \"SUM(SAT_SELNG_AMT), \" + \n",
    "                   \"SUM(SUN_SELNG_AMT) \" +\n",
    "                \"FROM SALES \" +\n",
    "                \"WHERE stdr_yy_cd = \" + str(year) + \" AND \" +\n",
    "                      \"svc_induty_cd_nm = \" + \"'\" + svc_nm + \"'\" + \" AND \" +\n",
    "                      \"TRDAR_CD_NM = \" + \"'\" + cd_nm + \"'\")\n",
    "    rows = cursor.fetchall()\n",
    "    colname =cursor.description\n",
    "    col=[]\n",
    "\n",
    "    for i in colname:\n",
    "        col.append(i[0])\n",
    "    salesByWeek = pd.DataFrame(rows, columns=col)\n",
    "    \n",
    "    return salesByWeek"
   ]
  },
  {
   "cell_type": "code",
   "execution_count": 22,
   "id": "9ae40b2e",
   "metadata": {
    "scrolled": true
   },
   "outputs": [
    {
     "data": {
      "text/html": [
       "<div>\n",
       "<style scoped>\n",
       "    .dataframe tbody tr th:only-of-type {\n",
       "        vertical-align: middle;\n",
       "    }\n",
       "\n",
       "    .dataframe tbody tr th {\n",
       "        vertical-align: top;\n",
       "    }\n",
       "\n",
       "    .dataframe thead th {\n",
       "        text-align: right;\n",
       "    }\n",
       "</style>\n",
       "<table border=\"1\" class=\"dataframe\">\n",
       "  <thead>\n",
       "    <tr style=\"text-align: right;\">\n",
       "      <th></th>\n",
       "      <th>SUM(MON_SELNG_AMT)</th>\n",
       "      <th>SUM(TUES_SELNG_AMT)</th>\n",
       "      <th>SUM(WED_SELNG_AMT)</th>\n",
       "      <th>SUM(THUR_SELNG_AMT)</th>\n",
       "      <th>SUM(FRI_SELNG_AMT)</th>\n",
       "      <th>SUM(SAT_SELNG_AMT)</th>\n",
       "      <th>SUM(SUN_SELNG_AMT)</th>\n",
       "    </tr>\n",
       "  </thead>\n",
       "  <tbody>\n",
       "    <tr>\n",
       "      <th>0</th>\n",
       "      <td>836205161</td>\n",
       "      <td>883809909</td>\n",
       "      <td>914199542</td>\n",
       "      <td>890937621</td>\n",
       "      <td>915040292</td>\n",
       "      <td>498579975</td>\n",
       "      <td>193158645</td>\n",
       "    </tr>\n",
       "  </tbody>\n",
       "</table>\n",
       "</div>"
      ],
      "text/plain": [
       "   SUM(MON_SELNG_AMT)  SUM(TUES_SELNG_AMT)  SUM(WED_SELNG_AMT)  \\\n",
       "0           836205161            883809909           914199542   \n",
       "\n",
       "   SUM(THUR_SELNG_AMT)  SUM(FRI_SELNG_AMT)  SUM(SAT_SELNG_AMT)  \\\n",
       "0            890937621           915040292           498579975   \n",
       "\n",
       "   SUM(SUN_SELNG_AMT)  \n",
       "0           193158645  "
      ]
     },
     "execution_count": 22,
     "metadata": {},
     "output_type": "execute_result"
    }
   ],
   "source": [
    "salesByWeek(2018, '한식음식점', '서울대병원')"
   ]
  },
  {
   "cell_type": "code",
   "execution_count": null,
   "id": "5bc3f24f",
   "metadata": {},
   "outputs": [],
   "source": [
    "df = sales[['STDR_YY_CD','SVC_INDUTY_CD_NM']]\n",
    "df"
   ]
  },
  {
   "cell_type": "code",
   "execution_count": null,
   "id": "b7e1d706",
   "metadata": {},
   "outputs": [],
   "source": [
    "df.loc[df['STDR_YY_CD']==2018]"
   ]
  },
  {
   "cell_type": "code",
   "execution_count": null,
   "id": "c67e3b66",
   "metadata": {},
   "outputs": [],
   "source": [
    "df.loc[(df['STDR_YY_CD']==2018) & (df['SVC_INDUTY_CD_NM']=='커피-음료')]"
   ]
  }
 ],
 "metadata": {
  "kernelspec": {
   "display_name": "Python 3 (ipykernel)",
   "language": "python",
   "name": "python3"
  },
  "language_info": {
   "codemirror_mode": {
    "name": "ipython",
    "version": 3
   },
   "file_extension": ".py",
   "mimetype": "text/x-python",
   "name": "python",
   "nbconvert_exporter": "python",
   "pygments_lexer": "ipython3",
   "version": "3.9.12"
  }
 },
 "nbformat": 4,
 "nbformat_minor": 5
}
