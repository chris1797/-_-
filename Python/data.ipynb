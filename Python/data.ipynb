{
 "cells": [
  {
   "cell_type": "code",
   "execution_count": 1,
   "id": "cabbe067",
   "metadata": {},
   "outputs": [],
   "source": [
    "import cx_Oracle\n",
    "import matplotlib as mpl # 그래프 옵션\n",
    "import matplotlib.pyplot as plt # 그래프 출력\n",
    "\n",
    "cx_Oracle.init_oracle_client(lib_dir=\"/Users/ijaehun/Downloads/instantclient_19_8\")\n",
    "connection = cx_Oracle.connect(user=\"admin\", password=\"Chldudcjf12!\", dsn=\"db20220709105045_low\")\n",
    "cursor = connection.cursor()"
   ]
  },
  {
   "cell_type": "code",
   "execution_count": null,
   "id": "b7942f8f",
   "metadata": {},
   "outputs": [],
   "source": [
    "cursor.execute(\"select * from sales\")\n",
    "rows = cursor.fetchall()   # 리턴한 객체를 한번에 리턴시킨다."
   ]
  },
  {
   "cell_type": "code",
   "execution_count": null,
   "id": "966523e8",
   "metadata": {},
   "outputs": [],
   "source": [
    "colname =cursor.description\n",
    "col=[]\n",
    "\n",
    "for i in colname:\n",
    "    col.append(i[0])"
   ]
  },
  {
   "cell_type": "code",
   "execution_count": null,
   "id": "eee67547",
   "metadata": {},
   "outputs": [],
   "source": [
    "sales=pd.DataFrame(rows, columns=col)"
   ]
  },
  {
   "cell_type": "code",
   "execution_count": null,
   "id": "9ae40b2e",
   "metadata": {},
   "outputs": [],
   "source": [
    "sales"
   ]
  },
  {
   "cell_type": "code",
   "execution_count": null,
   "id": "5bc3f24f",
   "metadata": {},
   "outputs": [],
   "source": [
    "df = sales[['STDR_YY_CD','SVC_INDUTY_CD_NM']]\n",
    "df"
   ]
  },
  {
   "cell_type": "code",
   "execution_count": null,
   "id": "b7e1d706",
   "metadata": {},
   "outputs": [],
   "source": [
    "df.loc[df['STDR_YY_CD']==2018]"
   ]
  },
  {
   "cell_type": "code",
   "execution_count": null,
   "id": "c67e3b66",
   "metadata": {},
   "outputs": [],
   "source": [
    "df.loc[(df['STDR_YY_CD']==2018) & (df['SVC_INDUTY_CD_NM']=='커피-음료')]"
   ]
  }
 ],
 "metadata": {
  "kernelspec": {
   "display_name": "Python 3 (ipykernel)",
   "language": "python",
   "name": "python3"
  },
  "language_info": {
   "codemirror_mode": {
    "name": "ipython",
    "version": 3
   },
   "file_extension": ".py",
   "mimetype": "text/x-python",
   "name": "python",
   "nbconvert_exporter": "python",
   "pygments_lexer": "ipython3",
   "version": "3.9.12"
  }
 },
 "nbformat": 4,
 "nbformat_minor": 5
}
