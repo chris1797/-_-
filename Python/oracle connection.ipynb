{
 "cells": [
  {
   "cell_type": "code",
   "execution_count": 1,
   "id": "54c849e5",
   "metadata": {
    "scrolled": false
   },
   "outputs": [
    {
     "name": "stdout",
     "output_type": "stream",
     "text": [
      "Requirement already satisfied: cx_Oracle in /Users/ijaehun/opt/anaconda3/lib/python3.9/site-packages (8.3.0)\n",
      "Note: you may need to restart the kernel to use updated packages.\n"
     ]
    }
   ],
   "source": [
    "pip install cx_Oracle --upgrade"
   ]
  },
  {
   "cell_type": "code",
   "execution_count": 1,
   "id": "380072ca",
   "metadata": {},
   "outputs": [],
   "source": [
    "import cx_Oracle"
   ]
  },
  {
   "cell_type": "code",
   "execution_count": 3,
   "id": "f5a4fbd4",
   "metadata": {
    "scrolled": true
   },
   "outputs": [],
   "source": [
    "cx_Oracle.init_oracle_client(lib_dir=\"/Users/ijaehun/Downloads/instantclient_19_8\")"
   ]
  },
  {
   "cell_type": "code",
   "execution_count": 4,
   "id": "5f4e39bd",
   "metadata": {
    "scrolled": true
   },
   "outputs": [],
   "source": [
    "connection = cx_Oracle.connect(user=\"admin\", password=\"Chldudcjf12!\", dsn=\"db20220709105045_low\")"
   ]
  },
  {
   "cell_type": "code",
   "execution_count": 5,
   "id": "8b1cedae",
   "metadata": {},
   "outputs": [],
   "source": [
    "cursor = connection.cursor()"
   ]
  },
  {
   "cell_type": "code",
   "execution_count": 6,
   "id": "6d89abfc",
   "metadata": {
    "scrolled": false
   },
   "outputs": [
    {
     "name": "stdout",
     "output_type": "stream",
     "text": [
      "(6, 'jaehun6004', '82B69D380FF22A74DC4F7464771BCD96', 'chris', 'jaehun6004@gmail.com', '남', datetime.datetime(1992, 10, 9, 0, 0), '01095561797', '서울시', '관악구', '신림동', '이재훈')\n",
      "(21, 'ok', '555587683DEE46A527E6B5E4B0036496', '이돌돌', 'ojh8686@naver.com', '남', datetime.datetime(1995, 8, 11, 0, 0), '01071955266', None, None, None, '이돌돌')\n",
      "(30, 'gpdla233', '879B99CFE2029920362E0726B837E0FB', 'young', 'youngcher1@naver.com', '남', datetime.datetime(2022, 8, 10, 0, 0), '01072270707', '서울시', '성동구', '성수동', '최영철')\n",
      "(31, 'chldudcjf12', '879B99CFE2029920362E0726B837E0FB', 'youngcer', 'youngcher1@naver.com', '남', datetime.datetime(2022, 8, 10, 0, 0), '01072270707', '서울시', '성동구', '성수동', '최영철')\n",
      "(27, 'ccc', '879B99CFE2029920362E0726B837E0FB', 'ccc', 'youngcher1@naver.com', '남', datetime.datetime(2022, 8, 8, 0, 0), '01072270707', '서울시', '성동구', '신림동', '최영철')\n",
      "(24, 'chlgpdla233', '5C7AC682091BE84886487D0A76B36A7D', 'himing', 'youngcher1@naver.com', '여', datetime.datetime(1994, 6, 18, 0, 0), '01028337942', '서울시', '성동구', '성수동', '최혜임')\n"
     ]
    }
   ],
   "source": [
    "cursor.execute(\"select * from USER_TB\")\n",
    "rows = cursor.fetchall()   # 리턴한 객체를 한번에 리턴시킨다.\n",
    "for row in rows:\n",
    "    print(row)"
   ]
  },
  {
   "cell_type": "code",
   "execution_count": 7,
   "id": "cf6da7fc",
   "metadata": {},
   "outputs": [],
   "source": [
    "import matplotlib as mpl # 그래프 옵션\n",
    "import matplotlib.pyplot as plt # 그래프 출력"
   ]
  },
  {
   "cell_type": "code",
   "execution_count": null,
   "id": "f55ef2ae",
   "metadata": {},
   "outputs": [],
   "source": []
  }
 ],
 "metadata": {
  "kernelspec": {
   "display_name": "Python 3 (ipykernel)",
   "language": "python",
   "name": "python3"
  },
  "language_info": {
   "codemirror_mode": {
    "name": "ipython",
    "version": 3
   },
   "file_extension": ".py",
   "mimetype": "text/x-python",
   "name": "python",
   "nbconvert_exporter": "python",
   "pygments_lexer": "ipython3",
   "version": "3.9.12"
  }
 },
 "nbformat": 4,
 "nbformat_minor": 5
}
